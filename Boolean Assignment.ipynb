{
 "cells": [
  {
   "cell_type": "markdown",
   "id": "efe30e87",
   "metadata": {},
   "source": [
    "# Q1. Declare a boolean value and store it in a variable.Check the type and print the id of the same."
   ]
  },
  {
   "cell_type": "code",
   "execution_count": 1,
   "id": "6230ddf9",
   "metadata": {},
   "outputs": [
    {
     "name": "stdout",
     "output_type": "stream",
     "text": [
      "True <class 'bool'>\n"
     ]
    }
   ],
   "source": [
    "A=True\n",
    "print(A,type(A))"
   ]
  },
  {
   "cell_type": "markdown",
   "id": "5925c353",
   "metadata": {},
   "source": [
    "# Q2. Take one boolean value between 0 - 256.\n",
    "- Assign it to two different variables.\n",
    "- Check the id of both the variables. It should come the same. Check why?"
   ]
  },
  {
   "cell_type": "code",
   "execution_count": 1,
   "id": "3a71fc8c",
   "metadata": {},
   "outputs": [
    {
     "name": "stdout",
     "output_type": "stream",
     "text": [
      "True 140731167996008\n",
      "True 140731167996008\n"
     ]
    }
   ],
   "source": [
    "a=bool(10)\n",
    "print(a,id(a))\n",
    "b=bool(10)\n",
    "print(b,id(b))\n"
   ]
  },
  {
   "cell_type": "markdown",
   "id": "b9aa4519",
   "metadata": {},
   "source": [
    "# Q3. Arithmetic Operations on boolean data\n",
    "- Take two different boolean values.\n",
    "- Store them in two different variables.\n",
    "- Do below operations on them:-\n",
    "  - Find sum of both values\n",
    "  - Find difference between them\n",
    "  - Find the product of both.\n",
    "  - Find value after dividing first value with second value\n",
    "  - Find the remainder after dividing first value with second value\n",
    "  - Find the quotient after dividing first value with second value\n",
    "  - Find the result of first value to the power of second value.\n"
   ]
  },
  {
   "cell_type": "code",
   "execution_count": 5,
   "id": "96c6c00e",
   "metadata": {},
   "outputs": [
    {
     "name": "stdout",
     "output_type": "stream",
     "text": [
      "2\n",
      "0\n",
      "1\n",
      "1.0\n",
      "0\n",
      "1\n",
      "1\n"
     ]
    }
   ],
   "source": [
    "a=bool(15)\n",
    "b=bool(5)\n",
    "print(a+b)\n",
    "print(a-b)\n",
    "print(a*b)\n",
    "print(a/b)\n",
    "print(a%b)\n",
    "print(a//b)\n",
    "print(a**b)"
   ]
  },
  {
   "cell_type": "markdown",
   "id": "2f1bc9ac",
   "metadata": {},
   "source": [
    "# Q4. Comparison Operators on boolean values\n",
    " - Take two different boolean values.\n",
    " - Store them in two different variables.\n",
    " - Do below operations on them:-\n",
    "   - Compare these two values with below operator:-\n",
    "   - Greater than, '>'\n",
    "   - less than, '<'\n",
    "   - Greater than or equal to, '>='\n",
    "   - Less than or equal to, '<='\n",
    "   - Observe their output(return type should be boolean)"
   ]
  },
  {
   "cell_type": "code",
   "execution_count": 6,
   "id": "a4134501",
   "metadata": {},
   "outputs": [
    {
     "name": "stdout",
     "output_type": "stream",
     "text": [
      "False\n",
      "False\n",
      "True\n",
      "True\n"
     ]
    }
   ],
   "source": [
    "a=bool(10)\n",
    "b=bool(10)\n",
    "print(a>b)\n",
    "print(a<b)\n",
    "print(a>=b)\n",
    "print(a<=b)\n"
   ]
  },
  {
   "cell_type": "markdown",
   "id": "506c8b79",
   "metadata": {},
   "source": [
    "# Q5. Equality Operator\n",
    " - Take two different boolean values.\n",
    " - Store them in two different variables.\n",
    " - Equate them using equality operators (==, !=)\n",
    " - Observe the output(return type should be boolean)"
   ]
  },
  {
   "cell_type": "code",
   "execution_count": 8,
   "id": "8f82b8f5",
   "metadata": {},
   "outputs": [
    {
     "name": "stdout",
     "output_type": "stream",
     "text": [
      "True\n",
      "False\n"
     ]
    }
   ],
   "source": [
    "a=bool(10)\n",
    "b=bool(10)\n",
    "print(a==b)\n",
    "print(a!=b)"
   ]
  },
  {
   "cell_type": "markdown",
   "id": "1aaaf576",
   "metadata": {},
   "source": [
    "# Q6. Logical operators\n",
    "Observe the output of below code\n",
    "Cross check the output manually"
   ]
  },
  {
   "cell_type": "code",
   "execution_count": 14,
   "id": "d35d1705",
   "metadata": {},
   "outputs": [
    {
     "name": "stdout",
     "output_type": "stream",
     "text": [
      "True\n"
     ]
    }
   ],
   "source": [
    "print(True and True)"
   ]
  },
  {
   "cell_type": "code",
   "execution_count": 15,
   "id": "b5153d45",
   "metadata": {},
   "outputs": [
    {
     "name": "stdout",
     "output_type": "stream",
     "text": [
      "False\n"
     ]
    }
   ],
   "source": [
    "print(False and True)"
   ]
  },
  {
   "cell_type": "code",
   "execution_count": 16,
   "id": "1ea2bd91",
   "metadata": {},
   "outputs": [
    {
     "name": "stdout",
     "output_type": "stream",
     "text": [
      "False\n"
     ]
    }
   ],
   "source": [
    "print(True and False)"
   ]
  },
  {
   "cell_type": "code",
   "execution_count": 17,
   "id": "7baf248c",
   "metadata": {},
   "outputs": [
    {
     "name": "stdout",
     "output_type": "stream",
     "text": [
      "False\n"
     ]
    }
   ],
   "source": [
    "print(False and False)"
   ]
  },
  {
   "cell_type": "code",
   "execution_count": 18,
   "id": "0732fbcf",
   "metadata": {},
   "outputs": [
    {
     "name": "stdout",
     "output_type": "stream",
     "text": [
      "True\n"
     ]
    }
   ],
   "source": [
    "print(True or True)"
   ]
  },
  {
   "cell_type": "code",
   "execution_count": 20,
   "id": "5f1ec039",
   "metadata": {},
   "outputs": [
    {
     "name": "stdout",
     "output_type": "stream",
     "text": [
      "True\n"
     ]
    }
   ],
   "source": [
    "print(False or True)"
   ]
  },
  {
   "cell_type": "code",
   "execution_count": 21,
   "id": "7290fb9a",
   "metadata": {},
   "outputs": [
    {
     "name": "stdout",
     "output_type": "stream",
     "text": [
      "True\n"
     ]
    }
   ],
   "source": [
    "print(True or False)"
   ]
  },
  {
   "cell_type": "code",
   "execution_count": 22,
   "id": "672fc18d",
   "metadata": {},
   "outputs": [
    {
     "name": "stdout",
     "output_type": "stream",
     "text": [
      "False\n"
     ]
    }
   ],
   "source": [
    "print(False or False)"
   ]
  },
  {
   "cell_type": "code",
   "execution_count": 23,
   "id": "c4bf90ac",
   "metadata": {},
   "outputs": [
    {
     "name": "stdout",
     "output_type": "stream",
     "text": [
      "False\n"
     ]
    }
   ],
   "source": [
    "print(not True)"
   ]
  },
  {
   "cell_type": "code",
   "execution_count": 19,
   "id": "01460873",
   "metadata": {},
   "outputs": [
    {
     "name": "stdout",
     "output_type": "stream",
     "text": [
      "True\n"
     ]
    }
   ],
   "source": [
    "print(not False)"
   ]
  },
  {
   "cell_type": "markdown",
   "id": "9a9c46c4",
   "metadata": {},
   "source": [
    "# Q7. Bitwise Operators\n",
    "- Do below operations on the values provided below:-"
   ]
  },
  {
   "cell_type": "markdown",
   "id": "40fc39ba",
   "metadata": {},
   "source": [
    " - Bitwise and(&) --------------> True, True \n",
    " - Bitwise or(|) --------------> True, False\n",
    " - Bitwise(^) --------------> True, False\n",
    " - Bitwise negation(~) ---------> True\n",
    " - Bitwise left shift ---------> True,2\n",
    " - Bitwise right shift ---------> True,2"
   ]
  },
  {
   "cell_type": "code",
   "execution_count": 24,
   "id": "bed9afec",
   "metadata": {},
   "outputs": [
    {
     "name": "stdout",
     "output_type": "stream",
     "text": [
      "True\n",
      "True\n",
      "True\n",
      "-2\n",
      "4\n",
      "0\n"
     ]
    }
   ],
   "source": [
    "print(True & True)\n",
    "print(True | False)\n",
    "print(True ^ False)\n",
    "print(~ True)\n",
    "print(True << 2)\n",
    "print(True >> 2)\n"
   ]
  },
  {
   "cell_type": "markdown",
   "id": "53a9e8a4",
   "metadata": {},
   "source": [
    "# Q8. What is the output of expression inside the print statement. Cross\n",
    "- check before running the program.\n",
    "  - a = True\n",
    "  - b = True\n",
    "  - print(a is b) #True or False? #\n",
    "  - print(a is not b) #True or False?\n",
    "  - a = False\n",
    "  - b = False\n",
    "  - print(a is b) #True or False?\n",
    "  - print(a is not b) #True or False?"
   ]
  },
  {
   "cell_type": "code",
   "execution_count": 25,
   "id": "3cee0ebf",
   "metadata": {},
   "outputs": [
    {
     "name": "stdout",
     "output_type": "stream",
     "text": [
      "True\n",
      "False\n"
     ]
    }
   ],
   "source": [
    "a=True\n",
    "b=True\n",
    "print(a is b)\n",
    "print(a is not b)"
   ]
  },
  {
   "cell_type": "code",
   "execution_count": 26,
   "id": "c92bba76",
   "metadata": {},
   "outputs": [
    {
     "name": "stdout",
     "output_type": "stream",
     "text": [
      "True\n",
      "False\n"
     ]
    }
   ],
   "source": [
    "a= False\n",
    "b= False\n",
    "print(a is b)\n",
    "print(a is not b)"
   ]
  },
  {
   "cell_type": "markdown",
   "id": "a6df4af2",
   "metadata": {},
   "source": [
    "# Q9. Membership operation\n",
    " - in, not in are two membership operators and it returns boolean value\n",
    "     - print(True in [10,10.20,10+20j,'Python', True])\n",
    "     - print(False in (10,10.20,10+20j,'Python', False))\n",
    "     - print(True in {1,2,3, True})\n",
    "     - print(True in {True:100, False:200, True:300})\n",
    "     - print(False in {True:100, False:200, True:300})"
   ]
  },
  {
   "cell_type": "code",
   "execution_count": 32,
   "id": "f378c1bd",
   "metadata": {},
   "outputs": [
    {
     "name": "stdout",
     "output_type": "stream",
     "text": [
      "True\n",
      "False\n"
     ]
    }
   ],
   "source": [
    "print(True in [10,10.20,10+20j,'Python', True])\n",
    "print(True not in [10,10.20,10+20j,'Python', True])"
   ]
  },
  {
   "cell_type": "code",
   "execution_count": 33,
   "id": "497d9ffb",
   "metadata": {},
   "outputs": [
    {
     "name": "stdout",
     "output_type": "stream",
     "text": [
      "True\n",
      "False\n"
     ]
    }
   ],
   "source": [
    "print(False in (10,10.20,10+20j,'Python', False))\n",
    "print(False not in (10,10.20,10+20j,'Python', False))"
   ]
  },
  {
   "cell_type": "code",
   "execution_count": 34,
   "id": "97b851f1",
   "metadata": {},
   "outputs": [
    {
     "name": "stdout",
     "output_type": "stream",
     "text": [
      "True\n",
      "False\n"
     ]
    }
   ],
   "source": [
    "print(True in {1,2,3, True})\n",
    "print(True not in {1,2,3, True})"
   ]
  },
  {
   "cell_type": "code",
   "execution_count": 35,
   "id": "58b94710",
   "metadata": {},
   "outputs": [
    {
     "name": "stdout",
     "output_type": "stream",
     "text": [
      "True\n",
      "False\n"
     ]
    }
   ],
   "source": [
    "print(True in {True:100, False:200, True:300})\n",
    "print(True not in {True:100, False:200, True:300})"
   ]
  },
  {
   "cell_type": "code",
   "execution_count": 36,
   "id": "468970d5",
   "metadata": {},
   "outputs": [
    {
     "name": "stdout",
     "output_type": "stream",
     "text": [
      "True\n",
      "False\n"
     ]
    }
   ],
   "source": [
    "print(False in {True:100, False:200, True:300})\n",
    "print(False not in {True:100, False:200, True:300})"
   ]
  },
  {
   "cell_type": "code",
   "execution_count": null,
   "id": "bd88eca7",
   "metadata": {},
   "outputs": [],
   "source": []
  }
 ],
 "metadata": {
  "kernelspec": {
   "display_name": "Python 3 (ipykernel)",
   "language": "python",
   "name": "python3"
  },
  "language_info": {
   "codemirror_mode": {
    "name": "ipython",
    "version": 3
   },
   "file_extension": ".py",
   "mimetype": "text/x-python",
   "name": "python",
   "nbconvert_exporter": "python",
   "pygments_lexer": "ipython3",
   "version": "3.9.13"
  }
 },
 "nbformat": 4,
 "nbformat_minor": 5
}
