{
 "cells": [
  {
   "cell_type": "markdown",
   "id": "a1e6eb81",
   "metadata": {},
   "source": [
    "# Q1. Declare a complex number and store it in a variable.\n",
    "-  Check the type and print the id of the same."
   ]
  },
  {
   "cell_type": "code",
   "execution_count": 4,
   "id": "f6f7b304",
   "metadata": {},
   "outputs": [
    {
     "name": "stdout",
     "output_type": "stream",
     "text": [
      "<class 'complex'> 2564408976944\n"
     ]
    }
   ],
   "source": [
    "x=2+5j\n",
    "print(type(x),id(x))"
   ]
  },
  {
   "cell_type": "markdown",
   "id": "eea3a378",
   "metadata": {},
   "source": [
    "# Q2. Arithmetic Operations on complex number. Take two different complex numbers.Store them in two different variables.\n",
    "- Do below operations on them:-\n",
    "    - Find sum of both numbers\n",
    "    - Find difference between them\n",
    "    - Find the product of both numbers.\n",
    "    - Find value after dividing first num with second number\n",
    "    - Find the result of the first num to the power of the second number."
   ]
  },
  {
   "cell_type": "code",
   "execution_count": 5,
   "id": "5c0033d4",
   "metadata": {},
   "outputs": [
    {
     "name": "stdout",
     "output_type": "stream",
     "text": [
      "(15+30j)\n",
      "(-5-10j)\n",
      "(-150+200j)\n",
      "(0.5+0j)\n",
      "(-6.966954518433685+2.4303120039373587j)\n"
     ]
    }
   ],
   "source": [
    "x=5+10j\n",
    "y=10+20j\n",
    "print(x+y)\n",
    "print(x-y)\n",
    "print(x*y)\n",
    "print(x/y)\n",
    "print(x**y)"
   ]
  },
  {
   "cell_type": "markdown",
   "id": "09bf54f4",
   "metadata": {},
   "source": [
    "# Q3.  Comparison Operation not applicable between instance of complex values. Object reusability concept is not applicable on complex number"
   ]
  },
  {
   "cell_type": "code",
   "execution_count": 7,
   "id": "dc6178ef",
   "metadata": {},
   "outputs": [
    {
     "ename": "TypeError",
     "evalue": "'>' not supported between instances of 'complex' and 'complex'",
     "output_type": "error",
     "traceback": [
      "\u001b[1;31m---------------------------------------------------------------------------\u001b[0m",
      "\u001b[1;31mTypeError\u001b[0m                                 Traceback (most recent call last)",
      "\u001b[1;32m~\\AppData\\Local\\Temp\\ipykernel_15400\\3143399000.py\u001b[0m in \u001b[0;36m<module>\u001b[1;34m\u001b[0m\n\u001b[0;32m      1\u001b[0m \u001b[0mx\u001b[0m\u001b[1;33m=\u001b[0m\u001b[1;36m30\u001b[0m\u001b[1;33m+\u001b[0m\u001b[1;36m50j\u001b[0m\u001b[1;33m\u001b[0m\u001b[1;33m\u001b[0m\u001b[0m\n\u001b[0;32m      2\u001b[0m \u001b[0my\u001b[0m\u001b[1;33m=\u001b[0m\u001b[1;36m30\u001b[0m\u001b[1;33m+\u001b[0m\u001b[1;36m50j\u001b[0m\u001b[1;33m\u001b[0m\u001b[1;33m\u001b[0m\u001b[0m\n\u001b[1;32m----> 3\u001b[1;33m \u001b[0mprint\u001b[0m\u001b[1;33m(\u001b[0m\u001b[0mx\u001b[0m\u001b[1;33m>\u001b[0m\u001b[0my\u001b[0m\u001b[1;33m)\u001b[0m\u001b[1;33m\u001b[0m\u001b[1;33m\u001b[0m\u001b[0m\n\u001b[0m",
      "\u001b[1;31mTypeError\u001b[0m: '>' not supported between instances of 'complex' and 'complex'"
     ]
    }
   ],
   "source": [
    "x=30+50j\n",
    "y=30+50j\n",
    "print(x>y)"
   ]
  },
  {
   "cell_type": "code",
   "execution_count": 9,
   "id": "03beea92",
   "metadata": {},
   "outputs": [
    {
     "name": "stdout",
     "output_type": "stream",
     "text": [
      "2564408977744\n",
      "2564408977808\n"
     ]
    }
   ],
   "source": [
    "x=30+50j\n",
    "y=30+50j\n",
    "print(id(x))\n",
    "print(id(y)) # both id are edifference even objects are some, because object re usability concept is not applicable"
   ]
  },
  {
   "cell_type": "markdown",
   "id": "52a1d36b",
   "metadata": {},
   "source": [
    "# Q4. Equality Operator\n",
    "   - Take two different complex numbers.\n",
    "   - Store them in two different variables.\n",
    "   - Equate them using equality operators (==, !=)\n",
    "   - Observe the output(return type should be boolean)"
   ]
  },
  {
   "cell_type": "code",
   "execution_count": 10,
   "id": "11c830d3",
   "metadata": {},
   "outputs": [
    {
     "name": "stdout",
     "output_type": "stream",
     "text": [
      "False\n",
      "True\n"
     ]
    }
   ],
   "source": [
    "a=10+20j\n",
    "b=50+100j\n",
    "print(a==b)\n",
    "print(a!=b)"
   ]
  },
  {
   "cell_type": "markdown",
   "id": "3ae699a0",
   "metadata": {},
   "source": [
    "# Q5. Logical operators\n",
    "      - Observe the output of below code and Cross check the output manually"
   ]
  },
  {
   "cell_type": "code",
   "execution_count": 11,
   "id": "b6de45c1",
   "metadata": {},
   "outputs": [
    {
     "name": "stdout",
     "output_type": "stream",
     "text": [
      "(20+30j)\n",
      "0j\n",
      "0j\n",
      "0j\n",
      "(10+20j)\n",
      "(20+30j)\n",
      "(20+30j)\n",
      "0j\n",
      "False\n",
      "True\n"
     ]
    }
   ],
   "source": [
    "print(10+20j and 20+30j)\n",
    "print(0+0j and 20+30j) \n",
    "print(20+30j and 0+0j)\n",
    "print(0+0j and 0+0j) \n",
    "print(10+20j or 20+30j)\n",
    "print(0+0j or 20+30j)\n",
    "print(20+30j or 0+0j)\n",
    "print(0+0j or 0+0j)\n",
    "print(not 10+20j)\n",
    "print(not 0+0j)"
   ]
  },
  {
   "cell_type": "markdown",
   "id": "c08dfb59",
   "metadata": {},
   "source": [
    "# Q6. What is the output of the expression inside the print statement.Cross check before running the program."
   ]
  },
  {
   "cell_type": "code",
   "execution_count": 12,
   "id": "1dde29e9",
   "metadata": {},
   "outputs": [
    {
     "name": "stdout",
     "output_type": "stream",
     "text": [
      "False\n",
      "True\n"
     ]
    }
   ],
   "source": [
    "a = 10+20j\n",
    "b = 10+20j\n",
    "print(a is b)\n",
    "print(a is not b) # Object re usuablity not supported here"
   ]
  },
  {
   "cell_type": "markdown",
   "id": "2495b779",
   "metadata": {},
   "source": [
    "# Q7. Membership operation\n",
    "- in, not in are two membership operators and it returns boolean value\n",
    "      - print('2.7' in 'Python2.7.8') \n",
    "      - print(10+20j in [10,10.20,10+20j,'Python']) \n",
    "      - print(10+20j in (10,10.20,10+20j,'Python')) \n",
    "      - print(30+40j in {1,20.30,30+40j}) \n",
    "      - print(30+40j in {1:100, 2.3:200, 30+40j:300}) \n",
    "      - print(10 in range(20)) "
   ]
  },
  {
   "cell_type": "code",
   "execution_count": 13,
   "id": "35d39ee5",
   "metadata": {},
   "outputs": [
    {
     "name": "stdout",
     "output_type": "stream",
     "text": [
      "True\n",
      "True\n",
      "True\n",
      "True\n",
      "True\n",
      "True\n"
     ]
    }
   ],
   "source": [
    "print('2.7' in 'Python2.7.8') \n",
    "print(10+20j in [10,10.20,10+20j,'Python']) \n",
    "print(10+20j in (10,10.20,10+20j,'Python')) \n",
    "print(30+40j in {1,20.30,30+40j}) \n",
    "print(30+40j in {1:100, 2.3:200, 30+40j:300}) \n",
    "print(10 in range(20)) "
   ]
  },
  {
   "cell_type": "code",
   "execution_count": null,
   "id": "71490018",
   "metadata": {},
   "outputs": [],
   "source": []
  },
  {
   "cell_type": "code",
   "execution_count": null,
   "id": "1e1c03ad",
   "metadata": {},
   "outputs": [],
   "source": []
  },
  {
   "cell_type": "code",
   "execution_count": null,
   "id": "5dfb75ee",
   "metadata": {},
   "outputs": [],
   "source": []
  },
  {
   "cell_type": "code",
   "execution_count": null,
   "id": "309cca79",
   "metadata": {},
   "outputs": [],
   "source": []
  },
  {
   "cell_type": "code",
   "execution_count": null,
   "id": "7160a48c",
   "metadata": {},
   "outputs": [],
   "source": []
  },
  {
   "cell_type": "code",
   "execution_count": null,
   "id": "b6eb51ef",
   "metadata": {},
   "outputs": [],
   "source": []
  },
  {
   "cell_type": "code",
   "execution_count": null,
   "id": "a07df4d7",
   "metadata": {},
   "outputs": [],
   "source": []
  },
  {
   "cell_type": "code",
   "execution_count": null,
   "id": "663178e0",
   "metadata": {},
   "outputs": [],
   "source": []
  },
  {
   "cell_type": "code",
   "execution_count": null,
   "id": "e2a9d8a9",
   "metadata": {},
   "outputs": [],
   "source": []
  },
  {
   "cell_type": "code",
   "execution_count": null,
   "id": "c0843578",
   "metadata": {},
   "outputs": [],
   "source": []
  },
  {
   "cell_type": "code",
   "execution_count": null,
   "id": "4165da28",
   "metadata": {},
   "outputs": [],
   "source": []
  },
  {
   "cell_type": "code",
   "execution_count": null,
   "id": "d2e6d08e",
   "metadata": {},
   "outputs": [],
   "source": []
  }
 ],
 "metadata": {
  "kernelspec": {
   "display_name": "Python 3 (ipykernel)",
   "language": "python",
   "name": "python3"
  },
  "language_info": {
   "codemirror_mode": {
    "name": "ipython",
    "version": 3
   },
   "file_extension": ".py",
   "mimetype": "text/x-python",
   "name": "python",
   "nbconvert_exporter": "python",
   "pygments_lexer": "ipython3",
   "version": "3.9.13"
  }
 },
 "nbformat": 4,
 "nbformat_minor": 5
}
