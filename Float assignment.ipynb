{
 "cells": [
  {
   "cell_type": "markdown",
   "id": "6dbff88f",
   "metadata": {},
   "source": [
    "- Q1.Declare a float value and store it in a variable.Check the type and print the id of the same."
   ]
  },
  {
   "cell_type": "code",
   "execution_count": 2,
   "id": "47d44c33",
   "metadata": {},
   "outputs": [
    {
     "name": "stdout",
     "output_type": "stream",
     "text": [
      "2.5 <class 'float'>\n",
      "1509211969104\n"
     ]
    }
   ],
   "source": [
    "x=2.5\n",
    "print(x,type(x))\n",
    "print(id(x))"
   ]
  },
  {
   "cell_type": "markdown",
   "id": "2dcda592",
   "metadata": {},
   "source": [
    "# Arithmetic operations in Float"
   ]
  },
  {
   "cell_type": "markdown",
   "id": "30f7a049",
   "metadata": {},
   "source": [
    "- Q2.Take two different float values.Store them in two different variables.Do below operations on them:-\n",
    "    - Find sum of both numbers\n",
    "    - Find difference between them\n",
    "    - Find the product of both numbers.\n",
    "    - Find value after dividing first num with second number\n",
    "    - Find the remainder after dividing first number with second number\n",
    "    - Find the quotient after dividing first number with second number\n",
    "    - Find the result of the first num to the power of the second number."
   ]
  },
  {
   "cell_type": "code",
   "execution_count": 4,
   "id": "a1be0137",
   "metadata": {},
   "outputs": [
    {
     "name": "stdout",
     "output_type": "stream",
     "text": [
      "15.7\n",
      "5.3\n",
      "54.6\n",
      "2.019230769230769\n",
      "0.09999999999999964\n",
      "2.0\n",
      "204260.48330383332\n"
     ]
    }
   ],
   "source": [
    "a=10.5\n",
    "b=5.2\n",
    "print(a+b)\n",
    "print(a-b)\n",
    "print(a*b)\n",
    "print(a/b)\n",
    "print(a%b)\n",
    "print(a//b)\n",
    "print(a**b)"
   ]
  },
  {
   "cell_type": "markdown",
   "id": "8c4670da",
   "metadata": {},
   "source": [
    "# Comparison Operators on float"
   ]
  },
  {
   "cell_type": "markdown",
   "id": "7fa97106",
   "metadata": {},
   "source": [
    "- Q3.Take two different float values.Store them in two different variables.Do below operations on them:-\n",
    "    - Compare these two numbers with below operator:-\n",
    "    - Greater than, '>'\n",
    "    - Smaller than, '<'\n",
    "    - Greater than or equal to, '>='\n",
    "    - Less than or equal to, '<='\n",
    "- Observe their output(return type should be boolean)"
   ]
  },
  {
   "cell_type": "code",
   "execution_count": 6,
   "id": "ed485736",
   "metadata": {},
   "outputs": [
    {
     "name": "stdout",
     "output_type": "stream",
     "text": [
      "False\n",
      "True\n",
      "False\n",
      "True\n"
     ]
    }
   ],
   "source": [
    "c=2.5\n",
    "d=5.6\n",
    "print(c>d)\n",
    "print(c<d)\n",
    "print(c>=d)\n",
    "print(c<=d)"
   ]
  },
  {
   "cell_type": "markdown",
   "id": "18a19ad3",
   "metadata": {},
   "source": [
    "# Equality Operator"
   ]
  },
  {
   "cell_type": "markdown",
   "id": "6e8fc4fe",
   "metadata": {},
   "source": [
    "- Q4.Take two different float values.Store them in two different variables.\n",
    "   - Equate them using equality operators (==, !=)\n",
    "    - Observe the output(return type should be boolean)"
   ]
  },
  {
   "cell_type": "code",
   "execution_count": 7,
   "id": "12ba196f",
   "metadata": {},
   "outputs": [
    {
     "name": "stdout",
     "output_type": "stream",
     "text": [
      "False\n",
      "True\n"
     ]
    }
   ],
   "source": [
    "x=3.9\n",
    "y=1.2\n",
    "print(x==y)\n",
    "print(x!=y)"
   ]
  },
  {
   "cell_type": "markdown",
   "id": "bdc01079",
   "metadata": {},
   "source": [
    "# Logical operators"
   ]
  },
  {
   "cell_type": "code",
   "execution_count": 8,
   "id": "c06c09e1",
   "metadata": {},
   "outputs": [
    {
     "name": "stdout",
     "output_type": "stream",
     "text": [
      "20.3\n",
      "0.0\n",
      "0.0\n",
      "0.0\n"
     ]
    }
   ],
   "source": [
    "print(10.20 and 20.30) # As both are true and second value taken\n",
    "print(0.0 and 20.30) #First is false so first value taken\n",
    "print(20.30 and 0.0) # Goes to till second and second value is false so second is taken\n",
    "print(0.0 and 0.0)  #First is false so first value is taken\n"
   ]
  },
  {
   "cell_type": "code",
   "execution_count": 9,
   "id": "26c10f35",
   "metadata": {},
   "outputs": [
    {
     "name": "stdout",
     "output_type": "stream",
     "text": [
      "10.2\n",
      "20.3\n",
      "20.3\n",
      "0.0\n"
     ]
    }
   ],
   "source": [
    "print(10.20 or 20.30) #First is True so first value is taken\n",
    "print(0.0 or 20.30) #Goes to till second and second is true second value is taken\n",
    "print(20.30 or 0.0) #First is True so first value is taken\n",
    "print(0.0 or 0.0) #Goes to till second and second is also false and second value is taken"
   ]
  },
  {
   "cell_type": "code",
   "execution_count": 10,
   "id": "de99212b",
   "metadata": {},
   "outputs": [
    {
     "name": "stdout",
     "output_type": "stream",
     "text": [
      "False\n",
      "True\n"
     ]
    }
   ],
   "source": [
    "print(not 10.20) #-Not of true is false->Output is False\n",
    "print(not 0.0) #Not of false is True>Output is True"
   ]
  },
  {
   "cell_type": "markdown",
   "id": "0f0f8a7b",
   "metadata": {},
   "source": [
    "- Q5. What is the output of expression inside print statement. Cross check before running the program.\n",
    "   - a=10.20\n",
    "   - b=10.20\n",
    "   - print(a is b)\n",
    "   - print(a is not b)"
   ]
  },
  {
   "cell_type": "code",
   "execution_count": 11,
   "id": "43bacc5e",
   "metadata": {},
   "outputs": [
    {
     "name": "stdout",
     "output_type": "stream",
     "text": [
      "1509212528464\n",
      "1509212526192\n",
      "False\n",
      "True\n"
     ]
    }
   ],
   "source": [
    "a=10.20\n",
    "b=10.20\n",
    "print(id(a))\n",
    "print(id(b))\n",
    "print(a is b)\n",
    "print(a is not b)"
   ]
  },
  {
   "cell_type": "code",
   "execution_count": 16,
   "id": "289046b1",
   "metadata": {},
   "outputs": [
    {
     "name": "stdout",
     "output_type": "stream",
     "text": [
      "1509212527152\n",
      "1509211969104\n"
     ]
    }
   ],
   "source": [
    "f=10.0\n",
    "g=10.0\n",
    "print(id(f))\n",
    "print(id(g)) # Object re usability concept not applicable for float, thats why id is different for same value of float"
   ]
  },
  {
   "cell_type": "markdown",
   "id": "c4295e41",
   "metadata": {},
   "source": [
    "# Membership operation\n",
    "- in, not in are two membership operators and it returns boolean value"
   ]
  },
  {
   "cell_type": "code",
   "execution_count": 1,
   "id": "78e76c76",
   "metadata": {},
   "outputs": [
    {
     "name": "stdout",
     "output_type": "stream",
     "text": [
      "True\n",
      "True\n",
      "True\n",
      "True\n",
      "True\n",
      "True\n"
     ]
    }
   ],
   "source": [
    "print('2.7' in 'Python2.7.8') \n",
    "print(10.20 in [10,10.20,10+20j,'Python']) \n",
    "print(10.20 in (10,10.20,10+20j,'Python')) \n",
    "print(20.30 in {1,20.30,30+40j}) \n",
    "print(2.3 in {1:100, 2.3:200, 30+40j:300}) \n",
    "print(10 in range(20)) "
   ]
  },
  {
   "cell_type": "code",
   "execution_count": 2,
   "id": "3fd23890",
   "metadata": {},
   "outputs": [
    {
     "name": "stdout",
     "output_type": "stream",
     "text": [
      "True\n",
      "False\n",
      "True\n",
      "True\n",
      "False\n",
      "True\n"
     ]
    }
   ],
   "source": [
    "print('3' not in 'Python2.7.8') \n",
    "print(10.20 not in [10,10.20,10+20j,'Python']) \n",
    "print(1 not in (10,10.20,10+20j,'Python')) \n",
    "print(20.40j not in {1,20.30,30+40j}) \n",
    "print(2.3 not in {1:100, 2.3:200, 30+40j:300}) \n",
    "print(24 not in range(20)) "
   ]
  },
  {
   "cell_type": "code",
   "execution_count": null,
   "id": "bc6d5d26",
   "metadata": {},
   "outputs": [],
   "source": []
  }
 ],
 "metadata": {
  "kernelspec": {
   "display_name": "Python 3 (ipykernel)",
   "language": "python",
   "name": "python3"
  },
  "language_info": {
   "codemirror_mode": {
    "name": "ipython",
    "version": 3
   },
   "file_extension": ".py",
   "mimetype": "text/x-python",
   "name": "python",
   "nbconvert_exporter": "python",
   "pygments_lexer": "ipython3",
   "version": "3.9.13"
  }
 },
 "nbformat": 4,
 "nbformat_minor": 5
}
